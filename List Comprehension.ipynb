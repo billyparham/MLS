{
 "cells": [
  {
   "cell_type": "code",
   "execution_count": 22,
   "id": "saved-swedish",
   "metadata": {},
   "outputs": [
    {
     "data": {
      "text/plain": [
       "{frozenset({'Rochita', 'me'}): 1}"
      ]
     },
     "execution_count": 22,
     "metadata": {},
     "output_type": "execute_result"
    }
   ],
   "source": [
    "num_classes_together = {}\n",
    "\n",
    "my_list = ['me', 'Rochita']\n",
    "\n",
    "num_classes_together[frozenset(my_list)] = 1\n",
    "\n",
    "s = frozenset({1,2,3,4})\n",
    "\n",
    "num_classes_together\n"
   ]
  },
  {
   "cell_type": "code",
   "execution_count": 40,
   "id": "mexican-willow",
   "metadata": {},
   "outputs": [
    {
     "name": "stdout",
     "output_type": "stream",
     "text": [
      "[10, 11, 12, 13, 14, 15, 16, 17, 18, 19, 20]\n",
      "[100, 121, 144, 169, 196, 225, 256, 289, 324, 361, 400]\n"
     ]
    }
   ],
   "source": [
    "def square(x):\n",
    "    return x ** 2\n",
    "\n",
    "numbers = list(range(10, 21))\n",
    "\n",
    "squared = []\n",
    "for i, num in enumerate(numbers):\n",
    "    # Put square(num) in squared\n",
    "    squared.append(square(num))\n",
    "\n",
    "print(numbers)\n",
    "print(squared)\n"
   ]
  },
  {
   "cell_type": "code",
   "execution_count": 46,
   "id": "political-canyon",
   "metadata": {},
   "outputs": [
    {
     "name": "stdout",
     "output_type": "stream",
     "text": [
      "[100, 0, 144, 0, 196, 0, 256, 0, 324, 0, 400]\n"
     ]
    }
   ],
   "source": [
    "squared = [num ** 2 if num % 2 == 0 else 0 for i, num in enumerate(numbers)]\n",
    "print(squared)"
   ]
  },
  {
   "cell_type": "code",
   "execution_count": 42,
   "id": "retired-thesaurus",
   "metadata": {},
   "outputs": [
    {
     "name": "stdout",
     "output_type": "stream",
     "text": [
      "{100: 0, 121: 1, 144: 2, 169: 3, 196: 4, 225: 5, 256: 6, 289: 7, 324: 8, 361: 9, 400: 10}\n"
     ]
    }
   ],
   "source": [
    "squared_index_dict = {num ** 2: i for i, num in enumerate(numbers)}\n",
    "print(squared_index_dict)"
   ]
  },
  {
   "cell_type": "code",
   "execution_count": 66,
   "id": "molecular-microwave",
   "metadata": {},
   "outputs": [
    {
     "data": {
      "text/plain": [
       "-321"
      ]
     },
     "execution_count": 66,
     "metadata": {},
     "output_type": "execute_result"
    }
   ],
   "source": [
    "\n",
    "def reverse_integer(x):\n",
    "    \"\"\"\n",
    "    123 -> 321\n",
    "    1903820 -> 283091\n",
    "    1 -> 1\n",
    "    21 -> 12\n",
    "    20 -> 2\n",
    "    \"\"\"\n",
    "    sign = 1 if x > 0 else -1\n",
    "    x = abs(x)\n",
    "    new_num = 0\n",
    "    while x > 0:\n",
    "        remainder = x % 10\n",
    "        x = x // 10\n",
    "        new_num = new_num * 10 + remainder\n",
    "    return new_num * sign\n",
    "\n",
    "reverse_integer(-123)\n",
    "\n",
    "\n",
    "\n",
    "\n"
   ]
  },
  {
   "cell_type": "code",
   "execution_count": 57,
   "id": "productive-mambo",
   "metadata": {},
   "outputs": [
    {
     "data": {
      "text/plain": [
       "[2, 1, 0]"
      ]
     },
     "execution_count": 57,
     "metadata": {},
     "output_type": "execute_result"
    }
   ],
   "source": [
    "list(range(len('123')-1, -1, -1))\n"
   ]
  }
 ],
 "metadata": {
  "kernelspec": {
   "display_name": "Python 3",
   "language": "python",
   "name": "python3"
  },
  "language_info": {
   "codemirror_mode": {
    "name": "ipython",
    "version": 3
   },
   "file_extension": ".py",
   "mimetype": "text/x-python",
   "name": "python",
   "nbconvert_exporter": "python",
   "pygments_lexer": "ipython3",
   "version": "3.8.5"
  }
 },
 "nbformat": 4,
 "nbformat_minor": 5
}
